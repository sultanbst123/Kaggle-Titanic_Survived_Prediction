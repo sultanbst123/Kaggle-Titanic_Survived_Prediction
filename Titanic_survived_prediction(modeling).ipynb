{
  "nbformat": 4,
  "nbformat_minor": 0,
  "metadata": {
    "colab": {
      "name": "Titanic survived prediction(modeling).ipynb",
      "provenance": [],
      "collapsed_sections": [],
      "mount_file_id": "1gh-gRtoOXwETM_CEyNKJGeE3AfUCvBMk",
      "authorship_tag": "ABX9TyPd5/mFFLql18qUou5eHHJZ",
      "include_colab_link": true
    },
    "kernelspec": {
      "display_name": "Python 3",
      "name": "python3"
    },
    "language_info": {
      "name": "python"
    },
    "widgets": {
      "application/vnd.jupyter.widget-state+json": {
        "0907ec6f375c42b0835691c222c103c3": {
          "model_module": "@jupyter-widgets/controls",
          "model_name": "HBoxModel",
          "model_module_version": "1.5.0",
          "state": {
            "_view_name": "HBoxView",
            "_dom_classes": [],
            "_model_name": "HBoxModel",
            "_view_module": "@jupyter-widgets/controls",
            "_model_module_version": "1.5.0",
            "_view_count": null,
            "_view_module_version": "1.5.0",
            "box_style": "",
            "layout": "IPY_MODEL_689c908e3582485dbccacbb7ae270591",
            "_model_module": "@jupyter-widgets/controls",
            "children": [
              "IPY_MODEL_1d63e31a6eb14961a1bb0579fe5a6225",
              "IPY_MODEL_3cf745ad03944e26ac7e2a50d259bcf0",
              "IPY_MODEL_2e17842e45224522b98c6b11ef7b3f90"
            ]
          }
        },
        "689c908e3582485dbccacbb7ae270591": {
          "model_module": "@jupyter-widgets/base",
          "model_name": "LayoutModel",
          "model_module_version": "1.2.0",
          "state": {
            "_view_name": "LayoutView",
            "grid_template_rows": null,
            "right": null,
            "justify_content": null,
            "_view_module": "@jupyter-widgets/base",
            "overflow": null,
            "_model_module_version": "1.2.0",
            "_view_count": null,
            "flex_flow": null,
            "width": null,
            "min_width": null,
            "border": null,
            "align_items": null,
            "bottom": null,
            "_model_module": "@jupyter-widgets/base",
            "top": null,
            "grid_column": null,
            "overflow_y": null,
            "overflow_x": null,
            "grid_auto_flow": null,
            "grid_area": null,
            "grid_template_columns": null,
            "flex": null,
            "_model_name": "LayoutModel",
            "justify_items": null,
            "grid_row": null,
            "max_height": null,
            "align_content": null,
            "visibility": null,
            "align_self": null,
            "height": null,
            "min_height": null,
            "padding": null,
            "grid_auto_rows": null,
            "grid_gap": null,
            "max_width": null,
            "order": null,
            "_view_module_version": "1.2.0",
            "grid_template_areas": null,
            "object_position": null,
            "object_fit": null,
            "grid_auto_columns": null,
            "margin": null,
            "display": null,
            "left": null
          }
        },
        "1d63e31a6eb14961a1bb0579fe5a6225": {
          "model_module": "@jupyter-widgets/controls",
          "model_name": "HTMLModel",
          "model_module_version": "1.5.0",
          "state": {
            "_view_name": "HTMLView",
            "style": "IPY_MODEL_56885ce2584944eb9e7ec8a442ccac81",
            "_dom_classes": [],
            "description": "",
            "_model_name": "HTMLModel",
            "placeholder": "​",
            "_view_module": "@jupyter-widgets/controls",
            "_model_module_version": "1.5.0",
            "value": "100%",
            "_view_count": null,
            "_view_module_version": "1.5.0",
            "description_tooltip": null,
            "_model_module": "@jupyter-widgets/controls",
            "layout": "IPY_MODEL_a56af47863c64c3a9acc06a8b44c8117"
          }
        },
        "3cf745ad03944e26ac7e2a50d259bcf0": {
          "model_module": "@jupyter-widgets/controls",
          "model_name": "FloatProgressModel",
          "model_module_version": "1.5.0",
          "state": {
            "_view_name": "ProgressView",
            "style": "IPY_MODEL_c9bae651488e41af9f145f996adfb799",
            "_dom_classes": [],
            "description": "",
            "_model_name": "FloatProgressModel",
            "bar_style": "success",
            "max": 50,
            "_view_module": "@jupyter-widgets/controls",
            "_model_module_version": "1.5.0",
            "value": 50,
            "_view_count": null,
            "_view_module_version": "1.5.0",
            "orientation": "horizontal",
            "min": 0,
            "description_tooltip": null,
            "_model_module": "@jupyter-widgets/controls",
            "layout": "IPY_MODEL_6dadf96330624ab38b801e3abcd53da9"
          }
        },
        "2e17842e45224522b98c6b11ef7b3f90": {
          "model_module": "@jupyter-widgets/controls",
          "model_name": "HTMLModel",
          "model_module_version": "1.5.0",
          "state": {
            "_view_name": "HTMLView",
            "style": "IPY_MODEL_a8f341fa564845c9857844c76a20a2d8",
            "_dom_classes": [],
            "description": "",
            "_model_name": "HTMLModel",
            "placeholder": "​",
            "_view_module": "@jupyter-widgets/controls",
            "_model_module_version": "1.5.0",
            "value": " 50/50 [00:24&lt;00:00,  2.62it/s]",
            "_view_count": null,
            "_view_module_version": "1.5.0",
            "description_tooltip": null,
            "_model_module": "@jupyter-widgets/controls",
            "layout": "IPY_MODEL_ae3e62cac49c460b93b3dd512ddecaed"
          }
        },
        "56885ce2584944eb9e7ec8a442ccac81": {
          "model_module": "@jupyter-widgets/controls",
          "model_name": "DescriptionStyleModel",
          "model_module_version": "1.5.0",
          "state": {
            "_view_name": "StyleView",
            "_model_name": "DescriptionStyleModel",
            "description_width": "",
            "_view_module": "@jupyter-widgets/base",
            "_model_module_version": "1.5.0",
            "_view_count": null,
            "_view_module_version": "1.2.0",
            "_model_module": "@jupyter-widgets/controls"
          }
        },
        "a56af47863c64c3a9acc06a8b44c8117": {
          "model_module": "@jupyter-widgets/base",
          "model_name": "LayoutModel",
          "model_module_version": "1.2.0",
          "state": {
            "_view_name": "LayoutView",
            "grid_template_rows": null,
            "right": null,
            "justify_content": null,
            "_view_module": "@jupyter-widgets/base",
            "overflow": null,
            "_model_module_version": "1.2.0",
            "_view_count": null,
            "flex_flow": null,
            "width": null,
            "min_width": null,
            "border": null,
            "align_items": null,
            "bottom": null,
            "_model_module": "@jupyter-widgets/base",
            "top": null,
            "grid_column": null,
            "overflow_y": null,
            "overflow_x": null,
            "grid_auto_flow": null,
            "grid_area": null,
            "grid_template_columns": null,
            "flex": null,
            "_model_name": "LayoutModel",
            "justify_items": null,
            "grid_row": null,
            "max_height": null,
            "align_content": null,
            "visibility": null,
            "align_self": null,
            "height": null,
            "min_height": null,
            "padding": null,
            "grid_auto_rows": null,
            "grid_gap": null,
            "max_width": null,
            "order": null,
            "_view_module_version": "1.2.0",
            "grid_template_areas": null,
            "object_position": null,
            "object_fit": null,
            "grid_auto_columns": null,
            "margin": null,
            "display": null,
            "left": null
          }
        },
        "c9bae651488e41af9f145f996adfb799": {
          "model_module": "@jupyter-widgets/controls",
          "model_name": "ProgressStyleModel",
          "model_module_version": "1.5.0",
          "state": {
            "_view_name": "StyleView",
            "_model_name": "ProgressStyleModel",
            "description_width": "",
            "_view_module": "@jupyter-widgets/base",
            "_model_module_version": "1.5.0",
            "_view_count": null,
            "_view_module_version": "1.2.0",
            "bar_color": null,
            "_model_module": "@jupyter-widgets/controls"
          }
        },
        "6dadf96330624ab38b801e3abcd53da9": {
          "model_module": "@jupyter-widgets/base",
          "model_name": "LayoutModel",
          "model_module_version": "1.2.0",
          "state": {
            "_view_name": "LayoutView",
            "grid_template_rows": null,
            "right": null,
            "justify_content": null,
            "_view_module": "@jupyter-widgets/base",
            "overflow": null,
            "_model_module_version": "1.2.0",
            "_view_count": null,
            "flex_flow": null,
            "width": null,
            "min_width": null,
            "border": null,
            "align_items": null,
            "bottom": null,
            "_model_module": "@jupyter-widgets/base",
            "top": null,
            "grid_column": null,
            "overflow_y": null,
            "overflow_x": null,
            "grid_auto_flow": null,
            "grid_area": null,
            "grid_template_columns": null,
            "flex": null,
            "_model_name": "LayoutModel",
            "justify_items": null,
            "grid_row": null,
            "max_height": null,
            "align_content": null,
            "visibility": null,
            "align_self": null,
            "height": null,
            "min_height": null,
            "padding": null,
            "grid_auto_rows": null,
            "grid_gap": null,
            "max_width": null,
            "order": null,
            "_view_module_version": "1.2.0",
            "grid_template_areas": null,
            "object_position": null,
            "object_fit": null,
            "grid_auto_columns": null,
            "margin": null,
            "display": null,
            "left": null
          }
        },
        "a8f341fa564845c9857844c76a20a2d8": {
          "model_module": "@jupyter-widgets/controls",
          "model_name": "DescriptionStyleModel",
          "model_module_version": "1.5.0",
          "state": {
            "_view_name": "StyleView",
            "_model_name": "DescriptionStyleModel",
            "description_width": "",
            "_view_module": "@jupyter-widgets/base",
            "_model_module_version": "1.5.0",
            "_view_count": null,
            "_view_module_version": "1.2.0",
            "_model_module": "@jupyter-widgets/controls"
          }
        },
        "ae3e62cac49c460b93b3dd512ddecaed": {
          "model_module": "@jupyter-widgets/base",
          "model_name": "LayoutModel",
          "model_module_version": "1.2.0",
          "state": {
            "_view_name": "LayoutView",
            "grid_template_rows": null,
            "right": null,
            "justify_content": null,
            "_view_module": "@jupyter-widgets/base",
            "overflow": null,
            "_model_module_version": "1.2.0",
            "_view_count": null,
            "flex_flow": null,
            "width": null,
            "min_width": null,
            "border": null,
            "align_items": null,
            "bottom": null,
            "_model_module": "@jupyter-widgets/base",
            "top": null,
            "grid_column": null,
            "overflow_y": null,
            "overflow_x": null,
            "grid_auto_flow": null,
            "grid_area": null,
            "grid_template_columns": null,
            "flex": null,
            "_model_name": "LayoutModel",
            "justify_items": null,
            "grid_row": null,
            "max_height": null,
            "align_content": null,
            "visibility": null,
            "align_self": null,
            "height": null,
            "min_height": null,
            "padding": null,
            "grid_auto_rows": null,
            "grid_gap": null,
            "max_width": null,
            "order": null,
            "_view_module_version": "1.2.0",
            "grid_template_areas": null,
            "object_position": null,
            "object_fit": null,
            "grid_auto_columns": null,
            "margin": null,
            "display": null,
            "left": null
          }
        }
      }
    }
  },
  "cells": [
    {
      "cell_type": "markdown",
      "metadata": {
        "id": "view-in-github",
        "colab_type": "text"
      },
      "source": [
        "<a href=\"https://colab.research.google.com/github/sultanbst123/Titanic_Survived-Prediction-/blob/main/Titanic_survived_prediction(modeling).ipynb\" target=\"_parent\"><img src=\"https://colab.research.google.com/assets/colab-badge.svg\" alt=\"Open In Colab\"/></a>"
      ]
    },
    {
      "cell_type": "code",
      "metadata": {
        "id": "lblU7Zyf2-Na"
      },
      "source": [
        "!pip install catboost"
      ],
      "execution_count": null,
      "outputs": []
    },
    {
      "cell_type": "code",
      "metadata": {
        "id": "s-LhxD383BXi"
      },
      "source": [
        "!pip install optuna"
      ],
      "execution_count": null,
      "outputs": []
    },
    {
      "cell_type": "code",
      "metadata": {
        "id": "uFsPPTi8vRC4"
      },
      "source": [
        "!pip install borutashap"
      ],
      "execution_count": null,
      "outputs": []
    },
    {
      "cell_type": "code",
      "metadata": {
        "id": "f5Edg9AmKXUo"
      },
      "source": [
        "import pandas as pd\n",
        "import numpy as np\n",
        "import matplotlib.pyplot as plt\n",
        "import seaborn as sns\n",
        "import optuna\n",
        "from BorutaShap import BorutaShap\n",
        " \n",
        "# classification\n",
        "import xgboost, lightgbm, catboost\n",
        "from xgboost import XGBClassifier\n",
        "from catboost import CatBoostClassifier\n",
        "from lightgbm import LGBMClassifier\n",
        "from sklearn.tree import DecisionTreeClassifier, ExtraTreeClassifier\n",
        "from sklearn.ensemble import RandomForestClassifier, StackingClassifier, GradientBoostingClassifier, AdaBoostClassifier\n",
        "from sklearn.svm import SVC\n",
        "from sklearn.linear_model import LogisticRegression\n",
        "from sklearn.neighbors import KNeighborsClassifier\n",
        " \n",
        "# regression\n",
        "from xgboost import XGBRegressor\n",
        "from catboost import CatBoostRegressor\n",
        "from lightgbm import LGBMRegressor\n",
        "from sklearn.tree import DecisionTreeRegressor\n",
        "from sklearn.ensemble import RandomForestRegressor, GradientBoostingRegressor, AdaBoostRegressor\n",
        "from sklearn.svm import SVR\n",
        "from sklearn.linear_model import LinearRegression, Ridge, Lasso, ElasticNet\n",
        "from sklearn.neighbors import KNeighborsClassifier\n",
        " \n",
        "from sklearn.model_selection import train_test_split, KFold, cross_val_score, StratifiedKFold\n",
        "from sklearn.metrics import (accuracy_score, classification_report, confusion_matrix, \n",
        "                            log_loss, roc_auc_score, plot_roc_curve) \n",
        "from sklearn.metrics import mean_absolute_error, mean_squared_error, mean_squared_log_error\n",
        "from sklearn.preprocessing import LabelEncoder, StandardScaler, MinMaxScaler\n",
        " \n",
        "import warnings\n",
        "warnings.filterwarnings(\"ignore\")\n",
        " \n",
        "%matplotlib inline"
      ],
      "execution_count": null,
      "outputs": []
    },
    {
      "cell_type": "code",
      "metadata": {
        "id": "Vh29hhz5bcGQ"
      },
      "source": [
        "train = pd.read_csv(\"/content/drive/MyDrive/Titanic survival/train_titanic(clean).csv\")\n",
        "test = pd.read_csv(\"/content/drive/MyDrive/Titanic survival/test_titanic(clean).csv\")\n",
        "sub = pd.read_csv(\"/content/drive/MyDrive/Titanic survival/gender_submission.csv\")"
      ],
      "execution_count": null,
      "outputs": []
    },
    {
      "cell_type": "code",
      "metadata": {
        "colab": {
          "base_uri": "https://localhost:8080/"
        },
        "id": "nWdqwjIMb14P",
        "outputId": "10f9f48a-f46a-4074-fb1a-aa22e07a2dfa"
      },
      "source": [
        "train.info()"
      ],
      "execution_count": null,
      "outputs": [
        {
          "name": "stdout",
          "output_type": "stream",
          "text": [
            "<class 'pandas.core.frame.DataFrame'>\n",
            "RangeIndex: 891 entries, 0 to 890\n",
            "Data columns (total 12 columns):\n",
            " #   Column         Non-Null Count  Dtype \n",
            "---  ------         --------------  ----- \n",
            " 0   Survived       891 non-null    int64 \n",
            " 1   Pclass         891 non-null    int64 \n",
            " 2   Sex            891 non-null    object\n",
            " 3   Embarked       891 non-null    object\n",
            " 4   title_name     891 non-null    object\n",
            " 5   ticket_counts  891 non-null    int64 \n",
            " 6   has_cabin      891 non-null    object\n",
            " 7   age_bin        891 non-null    object\n",
            " 8   Family_size    891 non-null    object\n",
            " 9   isalone        891 non-null    object\n",
            " 10  cut_fare       891 non-null    object\n",
            " 11  Deck           891 non-null    object\n",
            "dtypes: int64(3), object(9)\n",
            "memory usage: 83.7+ KB\n"
          ]
        }
      ]
    },
    {
      "cell_type": "code",
      "metadata": {
        "colab": {
          "base_uri": "https://localhost:8080/",
          "height": 224
        },
        "id": "yO_djcI7cFw6",
        "outputId": "64a0e8d6-d062-455c-91ec-fe3fd7a9142b"
      },
      "source": [
        "train.head()"
      ],
      "execution_count": null,
      "outputs": [
        {
          "data": {
            "text/html": [
              "<div>\n",
              "<style scoped>\n",
              "    .dataframe tbody tr th:only-of-type {\n",
              "        vertical-align: middle;\n",
              "    }\n",
              "\n",
              "    .dataframe tbody tr th {\n",
              "        vertical-align: top;\n",
              "    }\n",
              "\n",
              "    .dataframe thead th {\n",
              "        text-align: right;\n",
              "    }\n",
              "</style>\n",
              "<table border=\"1\" class=\"dataframe\">\n",
              "  <thead>\n",
              "    <tr style=\"text-align: right;\">\n",
              "      <th></th>\n",
              "      <th>Survived</th>\n",
              "      <th>Pclass</th>\n",
              "      <th>Sex</th>\n",
              "      <th>Embarked</th>\n",
              "      <th>title_name</th>\n",
              "      <th>ticket_counts</th>\n",
              "      <th>has_cabin</th>\n",
              "      <th>age_bin</th>\n",
              "      <th>Family_size</th>\n",
              "      <th>isalone</th>\n",
              "      <th>cut_fare</th>\n",
              "      <th>Deck</th>\n",
              "    </tr>\n",
              "  </thead>\n",
              "  <tbody>\n",
              "    <tr>\n",
              "      <th>0</th>\n",
              "      <td>0</td>\n",
              "      <td>3</td>\n",
              "      <td>male</td>\n",
              "      <td>S</td>\n",
              "      <td>Mr</td>\n",
              "      <td>1</td>\n",
              "      <td>No</td>\n",
              "      <td>20-40</td>\n",
              "      <td>Small</td>\n",
              "      <td>No</td>\n",
              "      <td>low</td>\n",
              "      <td>M</td>\n",
              "    </tr>\n",
              "    <tr>\n",
              "      <th>1</th>\n",
              "      <td>1</td>\n",
              "      <td>1</td>\n",
              "      <td>female</td>\n",
              "      <td>C</td>\n",
              "      <td>Mrs</td>\n",
              "      <td>1</td>\n",
              "      <td>Yes</td>\n",
              "      <td>20-40</td>\n",
              "      <td>Small</td>\n",
              "      <td>No</td>\n",
              "      <td>high</td>\n",
              "      <td>ABC</td>\n",
              "    </tr>\n",
              "    <tr>\n",
              "      <th>2</th>\n",
              "      <td>1</td>\n",
              "      <td>3</td>\n",
              "      <td>female</td>\n",
              "      <td>S</td>\n",
              "      <td>Miss</td>\n",
              "      <td>1</td>\n",
              "      <td>No</td>\n",
              "      <td>20-40</td>\n",
              "      <td>Alone</td>\n",
              "      <td>Yes</td>\n",
              "      <td>low</td>\n",
              "      <td>M</td>\n",
              "    </tr>\n",
              "    <tr>\n",
              "      <th>3</th>\n",
              "      <td>1</td>\n",
              "      <td>1</td>\n",
              "      <td>female</td>\n",
              "      <td>S</td>\n",
              "      <td>Mrs</td>\n",
              "      <td>2</td>\n",
              "      <td>Yes</td>\n",
              "      <td>20-40</td>\n",
              "      <td>Small</td>\n",
              "      <td>No</td>\n",
              "      <td>high</td>\n",
              "      <td>ABC</td>\n",
              "    </tr>\n",
              "    <tr>\n",
              "      <th>4</th>\n",
              "      <td>0</td>\n",
              "      <td>3</td>\n",
              "      <td>male</td>\n",
              "      <td>S</td>\n",
              "      <td>Mr</td>\n",
              "      <td>1</td>\n",
              "      <td>No</td>\n",
              "      <td>20-40</td>\n",
              "      <td>Alone</td>\n",
              "      <td>Yes</td>\n",
              "      <td>low</td>\n",
              "      <td>M</td>\n",
              "    </tr>\n",
              "  </tbody>\n",
              "</table>\n",
              "</div>"
            ],
            "text/plain": [
              "   Survived  Pclass     Sex Embarked  ... Family_size  isalone cut_fare Deck\n",
              "0         0       3    male        S  ...       Small       No      low    M\n",
              "1         1       1  female        C  ...       Small       No     high  ABC\n",
              "2         1       3  female        S  ...       Alone      Yes      low    M\n",
              "3         1       1  female        S  ...       Small       No     high  ABC\n",
              "4         0       3    male        S  ...       Alone      Yes      low    M\n",
              "\n",
              "[5 rows x 12 columns]"
            ]
          },
          "execution_count": 14,
          "metadata": {},
          "output_type": "execute_result"
        }
      ]
    },
    {
      "cell_type": "code",
      "metadata": {
        "id": "hkEyVzaGx7AZ"
      },
      "source": [
        "train_cp = train.copy()\n",
        "test_cp = test.copy()"
      ],
      "execution_count": null,
      "outputs": []
    },
    {
      "cell_type": "code",
      "metadata": {
        "id": "zIe2v2maxvHU"
      },
      "source": [
        "x = train_cp.drop(\"Survived\", axis=1) \n",
        "y = train_cp.Survived \n",
        "tester = test_cp"
      ],
      "execution_count": null,
      "outputs": []
    },
    {
      "cell_type": "code",
      "metadata": {
        "colab": {
          "base_uri": "https://localhost:8080/"
        },
        "id": "-ge0L9Dgxms9",
        "outputId": "6ef56a9a-385b-4126-f639-4d80ca7ba2b9"
      },
      "source": [
        "x_train, x_val, y_train, y_val = train_test_split(x, y, test_size=0.2, random_state=20)\n",
        " \n",
        "x_train.shape, x_val.shape, y_train.shape, y_val.shape"
      ],
      "execution_count": null,
      "outputs": [
        {
          "output_type": "execute_result",
          "data": {
            "text/plain": [
              "((712, 11), (179, 11), (712,), (179,))"
            ]
          },
          "metadata": {},
          "execution_count": 26
        }
      ]
    },
    {
      "cell_type": "markdown",
      "metadata": {
        "id": "uc2aQ7A4yX3I"
      },
      "source": [
        "#Feature Selection"
      ]
    },
    {
      "cell_type": "code",
      "metadata": {
        "id": "AZYM_Dm_zHlO"
      },
      "source": [
        "#ubah type object ke category \n",
        " \n",
        "cater = x.select_dtypes(exclude=\"number\").columns"
      ],
      "execution_count": null,
      "outputs": []
    },
    {
      "cell_type": "code",
      "metadata": {
        "colab": {
          "base_uri": "https://localhost:8080/"
        },
        "id": "8oLqY9aRztxs",
        "outputId": "17bda05a-d577-4be8-a378-bb9dc0b277b1"
      },
      "source": [
        "x_train[cater] = x_train[cater].astype(\"category\")\n",
        "x_val[cater] = x_val[cater].astype(\"category\") \n",
        "x_train.dtypes"
      ],
      "execution_count": null,
      "outputs": [
        {
          "output_type": "execute_result",
          "data": {
            "text/plain": [
              "Pclass              int64\n",
              "Sex              category\n",
              "Embarked         category\n",
              "title_name       category\n",
              "ticket_counts       int64\n",
              "has_cabin        category\n",
              "age_bin          category\n",
              "Family_size      category\n",
              "isalone          category\n",
              "cut_fare         category\n",
              "Deck             category\n",
              "dtype: object"
            ]
          },
          "metadata": {},
          "execution_count": 28
        }
      ]
    },
    {
      "cell_type": "code",
      "metadata": {
        "id": "1pNTi24Pyu8Q"
      },
      "source": [
        "lg = LGBMClassifier(objective=\"binary\",is_unbalanced=True, random_state=10)"
      ],
      "execution_count": null,
      "outputs": []
    },
    {
      "cell_type": "code",
      "metadata": {
        "id": "gyipKw8bxZ0w"
      },
      "source": [
        "#feature selection\n",
        "Feature_Selector = BorutaShap(model=lg,\n",
        "                                  importance_measure='shap', \n",
        "                                  classification=True)#set True jika classification"
      ],
      "execution_count": null,
      "outputs": []
    },
    {
      "cell_type": "code",
      "metadata": {
        "colab": {
          "base_uri": "https://localhost:8080/",
          "height": 176,
          "referenced_widgets": [
            "0907ec6f375c42b0835691c222c103c3",
            "689c908e3582485dbccacbb7ae270591",
            "1d63e31a6eb14961a1bb0579fe5a6225",
            "3cf745ad03944e26ac7e2a50d259bcf0",
            "2e17842e45224522b98c6b11ef7b3f90",
            "56885ce2584944eb9e7ec8a442ccac81",
            "a56af47863c64c3a9acc06a8b44c8117",
            "c9bae651488e41af9f145f996adfb799",
            "6dadf96330624ab38b801e3abcd53da9",
            "a8f341fa564845c9857844c76a20a2d8",
            "ae3e62cac49c460b93b3dd512ddecaed"
          ]
        },
        "id": "7rzsOfvhz2mH",
        "outputId": "9961e306-943c-457f-82f3-fdd6851e488d"
      },
      "source": [
        "Feature_Selector.fit(X=x_train, y=y_train, n_trials=50, random_state=0)"
      ],
      "execution_count": null,
      "outputs": [
        {
          "output_type": "display_data",
          "data": {
            "application/vnd.jupyter.widget-view+json": {
              "model_id": "0907ec6f375c42b0835691c222c103c3",
              "version_minor": 0,
              "version_major": 2
            },
            "text/plain": [
              "  0%|          | 0/50 [00:00<?, ?it/s]"
            ]
          },
          "metadata": {}
        },
        {
          "output_type": "stream",
          "name": "stdout",
          "text": [
            "4 attributes confirmed important: ['Pclass', 'title_name', 'Sex', 'cut_fare']\n",
            "7 attributes confirmed unimportant: ['has_cabin', 'ticket_counts', 'isalone', 'Deck', 'Embarked', 'age_bin', 'Family_size']\n",
            "0 tentative attributes remains: []\n"
          ]
        }
      ]
    },
    {
      "cell_type": "code",
      "metadata": {
        "colab": {
          "base_uri": "https://localhost:8080/",
          "height": 166
        },
        "id": "sYJWhjhxynfF",
        "outputId": "3c565399-a1df-43b9-8883-2bf38a1f53b6"
      },
      "source": [
        "Feature_Selector.plot(which_features='all', figsize=(24,12))"
      ],
      "execution_count": null,
      "outputs": [
        {
          "output_type": "display_data",
          "data": {
            "image/png": "[encoded data removed]",
            "text/plain": [
              "<Figure size 1728x864 with 1 Axes>"
            ]
          },
          "metadata": {
            "needs_background": "light"
          }
        }
      ]
    },
    {
      "cell_type": "code",
      "metadata": {
        "id": "ELHnG2j0HNLs"
      },
      "source": [
        "col = Feature_Selector.Subset().columns"
      ],
      "execution_count": null,
      "outputs": []
    },
    {
      "cell_type": "code",
      "metadata": {
        "id": "T_Ryowhc7IBB"
      },
      "source": [
        "acc_val = []\n",
        "acc_train = []\n",
        "roc_auc = []\n",
        "loss = []"
      ],
      "execution_count": null,
      "outputs": []
    },
    {
      "cell_type": "markdown",
      "metadata": {
        "id": "CQ99pNZY64-w"
      },
      "source": [
        "#model 1"
      ]
    },
    {
      "cell_type": "code",
      "metadata": {
        "id": "LAcZikHW9zAU"
      },
      "source": [
        "x_train_1 = x_train[col]\n",
        "x_val_1 = x_val[col]"
      ],
      "execution_count": null,
      "outputs": []
    },
    {
      "cell_type": "code",
      "metadata": {
        "colab": {
          "base_uri": "https://localhost:8080/",
          "height": 439
        },
        "id": "TPqkl_f7eKbE",
        "outputId": "c4a7fedb-55b8-455e-f9be-16248838f718"
      },
      "source": [
        "x_train_1"
      ],
      "execution_count": null,
      "outputs": [
        {
          "output_type": "execute_result",
          "data": {
            "text/html": [
              "<div>\n",
              "<style scoped>\n",
              "    .dataframe tbody tr th:only-of-type {\n",
              "        vertical-align: middle;\n",
              "    }\n",
              "\n",
              "    .dataframe tbody tr th {\n",
              "        vertical-align: top;\n",
              "    }\n",
              "\n",
              "    .dataframe thead th {\n",
              "        text-align: right;\n",
              "    }\n",
              "</style>\n",
              "<table border=\"1\" class=\"dataframe\">\n",
              "  <thead>\n",
              "    <tr style=\"text-align: right;\">\n",
              "      <th></th>\n",
              "      <th>Pclass</th>\n",
              "      <th>title_name</th>\n",
              "      <th>Sex</th>\n",
              "      <th>cut_fare</th>\n",
              "    </tr>\n",
              "  </thead>\n",
              "  <tbody>\n",
              "    <tr>\n",
              "      <th>811</th>\n",
              "      <td>3</td>\n",
              "      <td>Mr</td>\n",
              "      <td>male</td>\n",
              "      <td>medium</td>\n",
              "    </tr>\n",
              "    <tr>\n",
              "      <th>29</th>\n",
              "      <td>3</td>\n",
              "      <td>Mr</td>\n",
              "      <td>male</td>\n",
              "      <td>low</td>\n",
              "    </tr>\n",
              "    <tr>\n",
              "      <th>49</th>\n",
              "      <td>3</td>\n",
              "      <td>Mrs</td>\n",
              "      <td>female</td>\n",
              "      <td>medium</td>\n",
              "    </tr>\n",
              "    <tr>\n",
              "      <th>105</th>\n",
              "      <td>3</td>\n",
              "      <td>Mr</td>\n",
              "      <td>male</td>\n",
              "      <td>low</td>\n",
              "    </tr>\n",
              "    <tr>\n",
              "      <th>616</th>\n",
              "      <td>3</td>\n",
              "      <td>Mr</td>\n",
              "      <td>male</td>\n",
              "      <td>medium</td>\n",
              "    </tr>\n",
              "    <tr>\n",
              "      <th>...</th>\n",
              "      <td>...</td>\n",
              "      <td>...</td>\n",
              "      <td>...</td>\n",
              "      <td>...</td>\n",
              "    </tr>\n",
              "    <tr>\n",
              "      <th>218</th>\n",
              "      <td>1</td>\n",
              "      <td>Miss</td>\n",
              "      <td>female</td>\n",
              "      <td>high</td>\n",
              "    </tr>\n",
              "    <tr>\n",
              "      <th>223</th>\n",
              "      <td>3</td>\n",
              "      <td>Mr</td>\n",
              "      <td>male</td>\n",
              "      <td>low</td>\n",
              "    </tr>\n",
              "    <tr>\n",
              "      <th>271</th>\n",
              "      <td>3</td>\n",
              "      <td>Mr</td>\n",
              "      <td>male</td>\n",
              "      <td>low</td>\n",
              "    </tr>\n",
              "    <tr>\n",
              "      <th>474</th>\n",
              "      <td>3</td>\n",
              "      <td>Miss</td>\n",
              "      <td>female</td>\n",
              "      <td>medium</td>\n",
              "    </tr>\n",
              "    <tr>\n",
              "      <th>355</th>\n",
              "      <td>3</td>\n",
              "      <td>Mr</td>\n",
              "      <td>male</td>\n",
              "      <td>medium</td>\n",
              "    </tr>\n",
              "  </tbody>\n",
              "</table>\n",
              "<p>712 rows × 4 columns</p>\n",
              "</div>"
            ],
            "text/plain": [
              "     Pclass title_name     Sex cut_fare\n",
              "811       3         Mr    male   medium\n",
              "29        3         Mr    male      low\n",
              "49        3        Mrs  female   medium\n",
              "105       3         Mr    male      low\n",
              "616       3         Mr    male   medium\n",
              "..      ...        ...     ...      ...\n",
              "218       1       Miss  female     high\n",
              "223       3         Mr    male      low\n",
              "271       3         Mr    male      low\n",
              "474       3       Miss  female   medium\n",
              "355       3         Mr    male   medium\n",
              "\n",
              "[712 rows x 4 columns]"
            ]
          },
          "metadata": {},
          "execution_count": 36
        }
      ]
    },
    {
      "cell_type": "code",
      "metadata": {
        "colab": {
          "base_uri": "https://localhost:8080/"
        },
        "id": "1E0pxeu--HLF",
        "outputId": "35fd0980-5e21-44ca-8f09-eb889ed03830"
      },
      "source": [
        "x_train_1.shape, x_val_1.shape"
      ],
      "execution_count": null,
      "outputs": [
        {
          "data": {
            "text/plain": [
              "((712, 4), (179, 4))"
            ]
          },
          "execution_count": 23,
          "metadata": {},
          "output_type": "execute_result"
        }
      ]
    },
    {
      "cell_type": "code",
      "metadata": {
        "id": "A4iSHGev89P0"
      },
      "source": [
        "lc = LabelEncoder()\n",
        "for i in [\"cut_fare\", \"title_name\", \"Sex\"]: \n",
        "    x_train_1[i] = lc.fit_transform(x_train_1[i])\n",
        "    x_val_1[i] = lc.transform(x_val_1[i])"
      ],
      "execution_count": null,
      "outputs": []
    },
    {
      "cell_type": "code",
      "metadata": {
        "colab": {
          "base_uri": "https://localhost:8080/"
        },
        "id": "BNSs4P__-q0b",
        "outputId": "b9e08638-e1a1-436d-c5de-a4165ca4d31c"
      },
      "source": [
        "x_train_1.dtypes"
      ],
      "execution_count": null,
      "outputs": [
        {
          "data": {
            "text/plain": [
              "Sex           int64\n",
              "Pclass        int64\n",
              "title_name    int64\n",
              "cut_fare      int64\n",
              "dtype: object"
            ]
          },
          "execution_count": 60,
          "metadata": {},
          "output_type": "execute_result"
        }
      ]
    },
    {
      "cell_type": "code",
      "metadata": {
        "id": "SPUI_5sn6cpp"
      },
      "source": [
        "gbc = GradientBoostingClassifier(random_state=10)\n",
        "ada = AdaBoostClassifier(random_state=10)\n",
        "xg = XGBClassifier(random_state=10)\n",
        "rf = RandomForestClassifier(random_state=10)\n",
        "dt = DecisionTreeClassifier(random_state=10)"
      ],
      "execution_count": null,
      "outputs": []
    },
    {
      "cell_type": "code",
      "metadata": {
        "id": "TWOGdBCcAvjo"
      },
      "source": [
        "def score_1(model,x_train, y_train, x_val, y_val):\n",
        "    #fit model\n",
        "    model.fit(x_train,y_train)\n",
        " \n",
        "    #accuracy train dan val\n",
        "    acc_train.append(model.score(x_train, y_train))\n",
        "    acc_val.append(model.score(x_val, y_val))\n",
        "    \n",
        "    #roc auc score\n",
        "    pred = model.predict(x_val)\n",
        "    rocauc = roc_auc_score(y_val, pred) \n",
        "    roc_auc.append(rocauc)\n",
        "   \n",
        "    #log_loss \n",
        "    prob = model.predict_proba(x_val) \n",
        "    logloss = log_loss(y_val, prob)\n",
        "    loss.append(logloss)\n",
        "    \n",
        " \n",
        "    return model"
      ],
      "execution_count": null,
      "outputs": []
    },
    {
      "cell_type": "code",
      "metadata": {
        "colab": {
          "base_uri": "https://localhost:8080/"
        },
        "id": "vovi-EAe0MfN",
        "outputId": "8f22e41e-1043-43ab-b38f-613ef1a3ce01"
      },
      "source": [
        "for i,j in enumerate([gbc,ada,xg,rf,dt]):\n",
        "    score_1(j,x_train_1,y_train,x_val_1,y_val)\n",
        "    print(i+1,\"Done\")"
      ],
      "execution_count": null,
      "outputs": [
        {
          "output_type": "stream",
          "name": "stdout",
          "text": [
            "1 Done\n",
            "2 Done\n",
            "3 Done\n",
            "4 Done\n",
            "5 Done\n"
          ]
        }
      ]
    },
    {
      "cell_type": "markdown",
      "metadata": {
        "id": "qM-BdoUY4c4p"
      },
      "source": [
        "#model_2"
      ]
    },
    {
      "cell_type": "code",
      "metadata": {
        "colab": {
          "base_uri": "https://localhost:8080/"
        },
        "id": "CzGr68jy4fRX",
        "outputId": "c6606831-17d1-4dd0-ee01-41c16110ab1f"
      },
      "source": [
        "x_train_2 = x_train[col]\n",
        "x_val_2 = x_val[col]\n",
        "x_train_2.shape, x_val_2.shape"
      ],
      "execution_count": null,
      "outputs": [
        {
          "output_type": "execute_result",
          "data": {
            "text/plain": [
              "((712, 4), (179, 4))"
            ]
          },
          "metadata": {},
          "execution_count": 41
        }
      ]
    },
    {
      "cell_type": "code",
      "metadata": {
        "colab": {
          "base_uri": "https://localhost:8080/",
          "height": 224
        },
        "id": "1irmL4yTTzSY",
        "outputId": "e0dac5ba-c56b-4581-be20-bc27b462c0eb"
      },
      "source": [
        "x_train_2.head()"
      ],
      "execution_count": null,
      "outputs": [
        {
          "output_type": "execute_result",
          "data": {
            "text/html": [
              "<div>\n",
              "<style scoped>\n",
              "    .dataframe tbody tr th:only-of-type {\n",
              "        vertical-align: middle;\n",
              "    }\n",
              "\n",
              "    .dataframe tbody tr th {\n",
              "        vertical-align: top;\n",
              "    }\n",
              "\n",
              "    .dataframe thead th {\n",
              "        text-align: right;\n",
              "    }\n",
              "</style>\n",
              "<table border=\"1\" class=\"dataframe\">\n",
              "  <thead>\n",
              "    <tr style=\"text-align: right;\">\n",
              "      <th></th>\n",
              "      <th>Pclass</th>\n",
              "      <th>title_name</th>\n",
              "      <th>Sex</th>\n",
              "      <th>cut_fare</th>\n",
              "    </tr>\n",
              "  </thead>\n",
              "  <tbody>\n",
              "    <tr>\n",
              "      <th>811</th>\n",
              "      <td>3</td>\n",
              "      <td>Mr</td>\n",
              "      <td>male</td>\n",
              "      <td>medium</td>\n",
              "    </tr>\n",
              "    <tr>\n",
              "      <th>29</th>\n",
              "      <td>3</td>\n",
              "      <td>Mr</td>\n",
              "      <td>male</td>\n",
              "      <td>low</td>\n",
              "    </tr>\n",
              "    <tr>\n",
              "      <th>49</th>\n",
              "      <td>3</td>\n",
              "      <td>Mrs</td>\n",
              "      <td>female</td>\n",
              "      <td>medium</td>\n",
              "    </tr>\n",
              "    <tr>\n",
              "      <th>105</th>\n",
              "      <td>3</td>\n",
              "      <td>Mr</td>\n",
              "      <td>male</td>\n",
              "      <td>low</td>\n",
              "    </tr>\n",
              "    <tr>\n",
              "      <th>616</th>\n",
              "      <td>3</td>\n",
              "      <td>Mr</td>\n",
              "      <td>male</td>\n",
              "      <td>medium</td>\n",
              "    </tr>\n",
              "  </tbody>\n",
              "</table>\n",
              "</div>"
            ],
            "text/plain": [
              "     Pclass title_name     Sex cut_fare\n",
              "811       3         Mr    male   medium\n",
              "29        3         Mr    male      low\n",
              "49        3        Mrs  female   medium\n",
              "105       3         Mr    male      low\n",
              "616       3         Mr    male   medium"
            ]
          },
          "metadata": {},
          "execution_count": 42
        }
      ]
    },
    {
      "cell_type": "code",
      "metadata": {
        "colab": {
          "base_uri": "https://localhost:8080/"
        },
        "id": "yXQKzRRQ4188",
        "outputId": "d0069412-8eab-4db0-9dec-caeb647cf19f"
      },
      "source": [
        "x_train_2.dtypes"
      ],
      "execution_count": null,
      "outputs": [
        {
          "data": {
            "text/plain": [
              "Sex           category\n",
              "Pclass           int64\n",
              "title_name    category\n",
              "cut_fare      category\n",
              "dtype: object"
            ]
          },
          "execution_count": 65,
          "metadata": {},
          "output_type": "execute_result"
        }
      ]
    },
    {
      "cell_type": "code",
      "metadata": {
        "id": "BMbMfIp85A5j"
      },
      "source": [
        "cater = [\"cut_fare\", \"title_name\", \"Sex\"]\n",
        "x_train_2[cater] = x_train_2[cater].astype(\"category\")\n",
        "x_val_2[cater] = x_val_2[cater].astype(\"category\")"
      ],
      "execution_count": null,
      "outputs": []
    },
    {
      "cell_type": "code",
      "metadata": {
        "id": "HgPwPW0I6WQl"
      },
      "source": [
        "lgbm = LGBMClassifier(is_unbalanced=True,random_state=10)\n",
        "cb = CatBoostClassifier(scale_pos_weight=1,random_state=10)"
      ],
      "execution_count": null,
      "outputs": []
    },
    {
      "cell_type": "code",
      "metadata": {
        "id": "ge7yLcEN5bBz"
      },
      "source": [
        "def score_2(model,x_train, y_train, x_val, y_val):\n",
        "       \n",
        "    #lgbm\n",
        "    if model == lgbm:\n",
        "       #fit model\n",
        "       model.fit(x_train,y_train,verbose=False)\n",
        " \n",
        "       #accuracy train dan val\n",
        "       acc_train.append(model.score(x_train, y_train))\n",
        "       acc_val.append(model.score(x_val, y_val))\n",
        "     \n",
        "       #roc auc score\n",
        "       pred = model.predict(x_val)\n",
        "       rocauc = roc_auc_score(y_val, pred) \n",
        "       roc_auc.append(rocauc)\n",
        "   \n",
        "       #log_loss \n",
        "       prob = model.predict_proba(x_val) \n",
        "       logloss = log_loss(y_val, prob)\n",
        "       loss.append(logloss)\n",
        " \n",
        "   #catboost\n",
        "    else:         \n",
        "       model.fit(x_train,y_train,cat_features=cater,verbose=False)\n",
        " \n",
        "       #accuracy train dan val\n",
        "       acc_train.append(model.score(x_train, y_train))\n",
        "       acc_val.append(model.score(x_val, y_val))\n",
        "    \n",
        "       #roc auc score\n",
        "       pred = model.predict(x_val)\n",
        "       rocauc = roc_auc_score(y_val, pred)\n",
        "       roc_auc.append(rocauc)\n",
        "   \n",
        "       #log_loss \n",
        "       prob = model.predict_proba(x_val)\n",
        "       logloss = log_loss(y_val, prob)\n",
        "       loss.append(logloss) \n",
        "    return model"
      ],
      "execution_count": null,
      "outputs": []
    },
    {
      "cell_type": "code",
      "metadata": {
        "colab": {
          "base_uri": "https://localhost:8080/"
        },
        "id": "DvY3HmyGP8nM",
        "outputId": "885e8029-0730-465c-f0e6-583b79dd6811"
      },
      "source": [
        "for i,j in enumerate([lgbm,cb]):    \n",
        "    score_2(j,x_train_2, y_train, x_val_2, y_val)\n",
        "    print(i+1, \"Done\")"
      ],
      "execution_count": null,
      "outputs": [
        {
          "output_type": "stream",
          "name": "stdout",
          "text": [
            "1 Done\n",
            "2 Done\n"
          ]
        }
      ]
    },
    {
      "cell_type": "markdown",
      "metadata": {
        "id": "l6p05M6yBRCF"
      },
      "source": [
        "#model_3"
      ]
    },
    {
      "cell_type": "code",
      "metadata": {
        "colab": {
          "base_uri": "https://localhost:8080/"
        },
        "id": "Lb0HlRHHBTqQ",
        "outputId": "f4fe688a-b93f-4699-91c4-d4945b427382"
      },
      "source": [
        "x_train_3 = x_train[col]\n",
        "x_val_3 = x_val[col]\n",
        "x_train_3.shape, x_val_3.shape"
      ],
      "execution_count": null,
      "outputs": [
        {
          "output_type": "execute_result",
          "data": {
            "text/plain": [
              "((712, 4), (179, 4))"
            ]
          },
          "metadata": {},
          "execution_count": 47
        }
      ]
    },
    {
      "cell_type": "code",
      "metadata": {
        "colab": {
          "base_uri": "https://localhost:8080/"
        },
        "id": "LNVnyEXwBfBb",
        "outputId": "03ed0679-d1a4-47da-fc62-d0502693eaa3"
      },
      "source": [
        "x_train_3.dtypes"
      ],
      "execution_count": null,
      "outputs": [
        {
          "output_type": "execute_result",
          "data": {
            "text/plain": [
              "Sex           category\n",
              "title_name    category\n",
              "cut_fare      category\n",
              "Pclass           int64\n",
              "dtype: object"
            ]
          },
          "metadata": {},
          "execution_count": 33
        }
      ]
    },
    {
      "cell_type": "code",
      "metadata": {
        "id": "QNEzgaBARNQI"
      },
      "source": [
        "x_train_3 = x_train_3.join(pd.get_dummies(x_train_3[cater])) \n",
        "x_val_3 = x_val_3.join(pd.get_dummies(x_val_3[cater]))"
      ],
      "execution_count": null,
      "outputs": []
    },
    {
      "cell_type": "code",
      "metadata": {
        "id": "6zdtxhbpSKfw"
      },
      "source": [
        "for i in [x_train_3, x_val_3]: \n",
        "    i.drop(cater,axis = 1,inplace=True)"
      ],
      "execution_count": null,
      "outputs": []
    },
    {
      "cell_type": "code",
      "metadata": {
        "colab": {
          "base_uri": "https://localhost:8080/",
          "height": 439
        },
        "id": "I2AyR2VsSfy7",
        "outputId": "60006bb0-6a87-482c-a149-fc4e4f168c68"
      },
      "source": [
        "x_train_3"
      ],
      "execution_count": null,
      "outputs": [
        {
          "output_type": "execute_result",
          "data": {
            "text/html": [
              "<div>\n",
              "<style scoped>\n",
              "    .dataframe tbody tr th:only-of-type {\n",
              "        vertical-align: middle;\n",
              "    }\n",
              "\n",
              "    .dataframe tbody tr th {\n",
              "        vertical-align: top;\n",
              "    }\n",
              "\n",
              "    .dataframe thead th {\n",
              "        text-align: right;\n",
              "    }\n",
              "</style>\n",
              "<table border=\"1\" class=\"dataframe\">\n",
              "  <thead>\n",
              "    <tr style=\"text-align: right;\">\n",
              "      <th></th>\n",
              "      <th>Pclass</th>\n",
              "      <th>cut_fare_high</th>\n",
              "      <th>cut_fare_low</th>\n",
              "      <th>cut_fare_medium</th>\n",
              "      <th>title_name_Master</th>\n",
              "      <th>title_name_Miss</th>\n",
              "      <th>title_name_Mr</th>\n",
              "      <th>title_name_Mrs</th>\n",
              "      <th>title_name_Other</th>\n",
              "      <th>Sex_female</th>\n",
              "      <th>Sex_male</th>\n",
              "    </tr>\n",
              "  </thead>\n",
              "  <tbody>\n",
              "    <tr>\n",
              "      <th>811</th>\n",
              "      <td>3</td>\n",
              "      <td>0</td>\n",
              "      <td>0</td>\n",
              "      <td>1</td>\n",
              "      <td>0</td>\n",
              "      <td>0</td>\n",
              "      <td>1</td>\n",
              "      <td>0</td>\n",
              "      <td>0</td>\n",
              "      <td>0</td>\n",
              "      <td>1</td>\n",
              "    </tr>\n",
              "    <tr>\n",
              "      <th>29</th>\n",
              "      <td>3</td>\n",
              "      <td>0</td>\n",
              "      <td>1</td>\n",
              "      <td>0</td>\n",
              "      <td>0</td>\n",
              "      <td>0</td>\n",
              "      <td>1</td>\n",
              "      <td>0</td>\n",
              "      <td>0</td>\n",
              "      <td>0</td>\n",
              "      <td>1</td>\n",
              "    </tr>\n",
              "    <tr>\n",
              "      <th>49</th>\n",
              "      <td>3</td>\n",
              "      <td>0</td>\n",
              "      <td>0</td>\n",
              "      <td>1</td>\n",
              "      <td>0</td>\n",
              "      <td>0</td>\n",
              "      <td>0</td>\n",
              "      <td>1</td>\n",
              "      <td>0</td>\n",
              "      <td>1</td>\n",
              "      <td>0</td>\n",
              "    </tr>\n",
              "    <tr>\n",
              "      <th>105</th>\n",
              "      <td>3</td>\n",
              "      <td>0</td>\n",
              "      <td>1</td>\n",
              "      <td>0</td>\n",
              "      <td>0</td>\n",
              "      <td>0</td>\n",
              "      <td>1</td>\n",
              "      <td>0</td>\n",
              "      <td>0</td>\n",
              "      <td>0</td>\n",
              "      <td>1</td>\n",
              "    </tr>\n",
              "    <tr>\n",
              "      <th>616</th>\n",
              "      <td>3</td>\n",
              "      <td>0</td>\n",
              "      <td>0</td>\n",
              "      <td>1</td>\n",
              "      <td>0</td>\n",
              "      <td>0</td>\n",
              "      <td>1</td>\n",
              "      <td>0</td>\n",
              "      <td>0</td>\n",
              "      <td>0</td>\n",
              "      <td>1</td>\n",
              "    </tr>\n",
              "    <tr>\n",
              "      <th>...</th>\n",
              "      <td>...</td>\n",
              "      <td>...</td>\n",
              "      <td>...</td>\n",
              "      <td>...</td>\n",
              "      <td>...</td>\n",
              "      <td>...</td>\n",
              "      <td>...</td>\n",
              "      <td>...</td>\n",
              "      <td>...</td>\n",
              "      <td>...</td>\n",
              "      <td>...</td>\n",
              "    </tr>\n",
              "    <tr>\n",
              "      <th>218</th>\n",
              "      <td>1</td>\n",
              "      <td>1</td>\n",
              "      <td>0</td>\n",
              "      <td>0</td>\n",
              "      <td>0</td>\n",
              "      <td>1</td>\n",
              "      <td>0</td>\n",
              "      <td>0</td>\n",
              "      <td>0</td>\n",
              "      <td>1</td>\n",
              "      <td>0</td>\n",
              "    </tr>\n",
              "    <tr>\n",
              "      <th>223</th>\n",
              "      <td>3</td>\n",
              "      <td>0</td>\n",
              "      <td>1</td>\n",
              "      <td>0</td>\n",
              "      <td>0</td>\n",
              "      <td>0</td>\n",
              "      <td>1</td>\n",
              "      <td>0</td>\n",
              "      <td>0</td>\n",
              "      <td>0</td>\n",
              "      <td>1</td>\n",
              "    </tr>\n",
              "    <tr>\n",
              "      <th>271</th>\n",
              "      <td>3</td>\n",
              "      <td>0</td>\n",
              "      <td>1</td>\n",
              "      <td>0</td>\n",
              "      <td>0</td>\n",
              "      <td>0</td>\n",
              "      <td>1</td>\n",
              "      <td>0</td>\n",
              "      <td>0</td>\n",
              "      <td>0</td>\n",
              "      <td>1</td>\n",
              "    </tr>\n",
              "    <tr>\n",
              "      <th>474</th>\n",
              "      <td>3</td>\n",
              "      <td>0</td>\n",
              "      <td>0</td>\n",
              "      <td>1</td>\n",
              "      <td>0</td>\n",
              "      <td>1</td>\n",
              "      <td>0</td>\n",
              "      <td>0</td>\n",
              "      <td>0</td>\n",
              "      <td>1</td>\n",
              "      <td>0</td>\n",
              "    </tr>\n",
              "    <tr>\n",
              "      <th>355</th>\n",
              "      <td>3</td>\n",
              "      <td>0</td>\n",
              "      <td>0</td>\n",
              "      <td>1</td>\n",
              "      <td>0</td>\n",
              "      <td>0</td>\n",
              "      <td>1</td>\n",
              "      <td>0</td>\n",
              "      <td>0</td>\n",
              "      <td>0</td>\n",
              "      <td>1</td>\n",
              "    </tr>\n",
              "  </tbody>\n",
              "</table>\n",
              "<p>712 rows × 11 columns</p>\n",
              "</div>"
            ],
            "text/plain": [
              "     Pclass  cut_fare_high  ...  Sex_female  Sex_male\n",
              "811       3              0  ...           0         1\n",
              "29        3              0  ...           0         1\n",
              "49        3              0  ...           1         0\n",
              "105       3              0  ...           0         1\n",
              "616       3              0  ...           0         1\n",
              "..      ...            ...  ...         ...       ...\n",
              "218       1              1  ...           1         0\n",
              "223       3              0  ...           0         1\n",
              "271       3              0  ...           0         1\n",
              "474       3              0  ...           1         0\n",
              "355       3              0  ...           0         1\n",
              "\n",
              "[712 rows x 11 columns]"
            ]
          },
          "metadata": {},
          "execution_count": 36
        }
      ]
    },
    {
      "cell_type": "code",
      "metadata": {
        "id": "KzaJWNGnBjNY"
      },
      "source": [
        "# Scale Value\n",
        "sc = StandardScaler()\n",
        " \n",
        "x_train_3 = sc.fit_transform(x_train_3)\n",
        "x_val_3 = sc.transform(x_val_3)"
      ],
      "execution_count": null,
      "outputs": []
    },
    {
      "cell_type": "code",
      "metadata": {
        "id": "QKJBx6dD3WGF"
      },
      "source": [
        "svc = SVC(kernel = \"linear\",random_state=10, probability=True)\n",
        "lr = LogisticRegression(random_state=10)\n",
        "knc = KNeighborsClassifier()"
      ],
      "execution_count": null,
      "outputs": []
    },
    {
      "cell_type": "code",
      "metadata": {
        "id": "-keTBpEECtIX"
      },
      "source": [
        "def score_3(model,x_train, y_train, x_val, y_val):\n",
        "    #fit model\n",
        "    model.fit(x_train,y_train)\n",
        " \n",
        "    #accuracy train dan val\n",
        "    acc_train.append(model.score(x_train, y_train))\n",
        "    acc_val.append(model.score(x_val, y_val))\n",
        "    \n",
        "    #roc auc score\n",
        "    pred = model.predict(x_val)\n",
        "    rocauc = roc_auc_score(y_val, pred) \n",
        "    roc_auc.append(rocauc)\n",
        "   \n",
        "    #log_loss \n",
        "    prob = model.predict_proba(x_val) \n",
        "    logloss = log_loss(y_val, prob)\n",
        "    loss.append(logloss)\n",
        "    \n",
        " \n",
        "    return model"
      ],
      "execution_count": null,
      "outputs": []
    },
    {
      "cell_type": "code",
      "metadata": {
        "colab": {
          "base_uri": "https://localhost:8080/"
        },
        "id": "WH11Ae9eC-Ap",
        "outputId": "c82b447c-627a-4c5b-8bce-5db13ddce698"
      },
      "source": [
        "for i,j in enumerate([svc,lr,knc]):\n",
        "   score_3(j,x_train_3, y_train, x_val_3, y_val)\n",
        "   print(i+1, \"Done\")"
      ],
      "execution_count": null,
      "outputs": [
        {
          "output_type": "stream",
          "name": "stdout",
          "text": [
            "1 Done\n",
            "2 Done\n",
            "3 Done\n"
          ]
        }
      ]
    },
    {
      "cell_type": "markdown",
      "metadata": {
        "id": "bzIhkZz3IbFk"
      },
      "source": [
        "#model selection"
      ]
    },
    {
      "cell_type": "code",
      "metadata": {
        "id": "ftTwl51C1tML"
      },
      "source": [
        "dic = {\"model\": [\"GBC\",\"ADA\",\"RF\",\"DT\",\"XG\",\"LGBM\",\"CB\",\"SVC\",\"LR\",\"KNC\"], \n",
        "      \"accuracy_train\": acc_train, \n",
        "      \"accuracy_val\":acc_val, \n",
        "      \"roc_auc_score\": roc_auc, \n",
        "      \"log_loss\": loss}"
      ],
      "execution_count": null,
      "outputs": []
    },
    {
      "cell_type": "code",
      "metadata": {
        "id": "4r-4XvOyIq5P"
      },
      "source": [
        "df_model = pd.DataFrame(dic)"
      ],
      "execution_count": null,
      "outputs": []
    },
    {
      "cell_type": "code",
      "metadata": {
        "colab": {
          "base_uri": "https://localhost:8080/",
          "height": 410
        },
        "id": "19McI_v52SJj",
        "outputId": "fdfca560-8cff-4c62-a3d6-c16cd42a2a2d"
      },
      "source": [
        "df_model  = df_model.set_index(\"model\")\n",
        "df_model"
      ],
      "execution_count": null,
      "outputs": [
        {
          "output_type": "execute_result",
          "data": {
            "text/html": [
              "<div>\n",
              "<style scoped>\n",
              "    .dataframe tbody tr th:only-of-type {\n",
              "        vertical-align: middle;\n",
              "    }\n",
              "\n",
              "    .dataframe tbody tr th {\n",
              "        vertical-align: top;\n",
              "    }\n",
              "\n",
              "    .dataframe thead th {\n",
              "        text-align: right;\n",
              "    }\n",
              "</style>\n",
              "<table border=\"1\" class=\"dataframe\">\n",
              "  <thead>\n",
              "    <tr style=\"text-align: right;\">\n",
              "      <th></th>\n",
              "      <th>accuracy_train</th>\n",
              "      <th>accuracy_val</th>\n",
              "      <th>roc_auc_score</th>\n",
              "      <th>log_loss</th>\n",
              "    </tr>\n",
              "    <tr>\n",
              "      <th>model</th>\n",
              "      <th></th>\n",
              "      <th></th>\n",
              "      <th></th>\n",
              "      <th></th>\n",
              "    </tr>\n",
              "  </thead>\n",
              "  <tbody>\n",
              "    <tr>\n",
              "      <th>GBC</th>\n",
              "      <td>0.824438</td>\n",
              "      <td>0.826816</td>\n",
              "      <td>0.783649</td>\n",
              "      <td>0.389978</td>\n",
              "    </tr>\n",
              "    <tr>\n",
              "      <th>ADA</th>\n",
              "      <td>0.783708</td>\n",
              "      <td>0.832402</td>\n",
              "      <td>0.815099</td>\n",
              "      <td>0.679891</td>\n",
              "    </tr>\n",
              "    <tr>\n",
              "      <th>RF</th>\n",
              "      <td>0.824438</td>\n",
              "      <td>0.826816</td>\n",
              "      <td>0.783649</td>\n",
              "      <td>0.393738</td>\n",
              "    </tr>\n",
              "    <tr>\n",
              "      <th>DT</th>\n",
              "      <td>0.824438</td>\n",
              "      <td>0.826816</td>\n",
              "      <td>0.783649</td>\n",
              "      <td>0.389685</td>\n",
              "    </tr>\n",
              "    <tr>\n",
              "      <th>XG</th>\n",
              "      <td>0.824438</td>\n",
              "      <td>0.826816</td>\n",
              "      <td>0.783649</td>\n",
              "      <td>0.388846</td>\n",
              "    </tr>\n",
              "    <tr>\n",
              "      <th>LGBM</th>\n",
              "      <td>0.824438</td>\n",
              "      <td>0.826816</td>\n",
              "      <td>0.783649</td>\n",
              "      <td>0.391306</td>\n",
              "    </tr>\n",
              "    <tr>\n",
              "      <th>CB</th>\n",
              "      <td>0.824438</td>\n",
              "      <td>0.826816</td>\n",
              "      <td>0.783649</td>\n",
              "      <td>0.399674</td>\n",
              "    </tr>\n",
              "    <tr>\n",
              "      <th>SVC</th>\n",
              "      <td>0.783708</td>\n",
              "      <td>0.832402</td>\n",
              "      <td>0.815099</td>\n",
              "      <td>0.459664</td>\n",
              "    </tr>\n",
              "    <tr>\n",
              "      <th>LR</th>\n",
              "      <td>0.801966</td>\n",
              "      <td>0.871508</td>\n",
              "      <td>0.846349</td>\n",
              "      <td>0.409031</td>\n",
              "    </tr>\n",
              "    <tr>\n",
              "      <th>KNC</th>\n",
              "      <td>0.800562</td>\n",
              "      <td>0.782123</td>\n",
              "      <td>0.762926</td>\n",
              "      <td>1.311575</td>\n",
              "    </tr>\n",
              "  </tbody>\n",
              "</table>\n",
              "</div>"
            ],
            "text/plain": [
              "       accuracy_train  accuracy_val  roc_auc_score  log_loss\n",
              "model                                                       \n",
              "GBC          0.824438      0.826816       0.783649  0.389978\n",
              "ADA          0.783708      0.832402       0.815099  0.679891\n",
              "RF           0.824438      0.826816       0.783649  0.393738\n",
              "DT           0.824438      0.826816       0.783649  0.389685\n",
              "XG           0.824438      0.826816       0.783649  0.388846\n",
              "LGBM         0.824438      0.826816       0.783649  0.391306\n",
              "CB           0.824438      0.826816       0.783649  0.399674\n",
              "SVC          0.783708      0.832402       0.815099  0.459664\n",
              "LR           0.801966      0.871508       0.846349  0.409031\n",
              "KNC          0.800562      0.782123       0.762926  1.311575"
            ]
          },
          "metadata": {},
          "execution_count": 56
        }
      ]
    },
    {
      "cell_type": "code",
      "metadata": {
        "colab": {
          "base_uri": "https://localhost:8080/",
          "height": 272
        },
        "id": "brDywSZcW6BA",
        "outputId": "5bb7b13e-4d68-4c55-b58d-b3e9053593ba"
      },
      "source": [
        " \n",
        "plt.figure(figsize=(17,8)) \n",
        "df_model[[\"accuracy_train\", \"accuracy_val\"]].plot.bar()\n",
        "plt.title(\"accuracy\", size=15)\n",
        "plt.yticks([0.0,0.2,0.4,0.6,0.8,1.0],size=10)\n",
        "plt.xticks(size=10)\n",
        "plt.legend(loc=2,fontsize=7)\n",
        "plt.show()"
      ],
      "execution_count": null,
      "outputs": [
        {
          "output_type": "display_data",
          "data": {
            "text/plain": [
              "<Figure size 1224x576 with 0 Axes>"
            ]
          },
          "metadata": {}
        },
        {
          "output_type": "display_data",
          "data": {
            "image/png": "[encoded data removed]",
            "text/plain": [
              "<Figure size 432x288 with 1 Axes>"
            ]
          },
          "metadata": {
            "needs_background": "light"
          }
        }
      ]
    },
    {
      "cell_type": "code",
      "metadata": {
        "colab": {
          "base_uri": "https://localhost:8080/",
          "height": 152
        },
        "id": "5nlaIF5PZU0y",
        "outputId": "4e5892e1-20e3-4c32-f2c2-cb12a8c459ab"
      },
      "source": [
        "plt.figure(figsize=(17,8)) \n",
        "sns.barplot(x=df_model.index,y=\"roc_auc_score\",data=df_model.sort_values(\"roc_auc_score\",ascending=False))\n",
        "plt.xticks(size=10)\n",
        "plt.yticks(size=10)\n",
        "plt.title(\"Roc_auc_score\", size=15)\n",
        "plt.show()"
      ],
      "execution_count": null,
      "outputs": [
        {
          "output_type": "display_data",
          "data": {
            "image/png": "[encoded data removed]",
            "text/plain": [
              "<Figure size 1224x576 with 1 Axes>"
            ]
          },
          "metadata": {
            "needs_background": "light"
          }
        }
      ]
    },
    {
      "cell_type": "code",
      "metadata": {
        "colab": {
          "base_uri": "https://localhost:8080/",
          "height": 152
        },
        "id": "JD8YLHNybcSp",
        "outputId": "51fe113c-e338-4362-b4d1-23d5a5d6a889"
      },
      "source": [
        "plt.figure(figsize=(17,8)) \n",
        "sns.barplot(x=df_model.index,y=\"log_loss\",data=df_model.sort_values(\"log_loss\"))\n",
        "plt.xticks(size=10)\n",
        "plt.yticks(size=10)\n",
        "plt.title(\"log_loss\", size=15)\n",
        "plt.show()"
      ],
      "execution_count": null,
      "outputs": [
        {
          "output_type": "display_data",
          "data": {
            "image/png": "[encoded data removed]",
            "text/plain": [
              "<Figure size 1224x576 with 1 Axes>"
            ]
          },
          "metadata": {
            "needs_background": "light"
          }
        }
      ]
    },
    {
      "cell_type": "markdown",
      "metadata": {
        "id": "9K4JrBIJwjXv"
      },
      "source": [
        "#Hyperparameters tuning"
      ]
    },
    {
      "cell_type": "code",
      "metadata": {
        "id": "2T3BDdWvWE1g"
      },
      "source": [
        "def objective(trial):\n",
        "    \n",
        "    params = {\n",
        "        \"solver\" : trial.suggest_categorical(\"solver\", [\"newton-cg\", \"lbfgs\", \"liblinear\", \"sag\", \"saga\"]),\n",
        "        \"C\" : trial.suggest_categorical(\"C\",[100, 10, 1.0, 0.1, 0.01])       \n",
        "        }\n",
        "    model = LogisticRegression(**params, random_state=42)\n",
        "    model.fit(x_train_3,y_train)\n",
        " \n",
        "    y_preds = model.predict(x_val_3) \n",
        "    score = accuracy_score(y_val,y_preds)\n",
        "    \n",
        "    return score"
      ],
      "execution_count": null,
      "outputs": []
    },
    {
      "cell_type": "code",
      "metadata": {
        "colab": {
          "base_uri": "https://localhost:8080/"
        },
        "id": "eqazfS8TYGpd",
        "outputId": "e0444865-2990-44f0-92ce-0a29f4a7fc80"
      },
      "source": [
        "study = optuna.create_study(direction='maximize')\n",
        "study.optimize(objective, n_trials=50)"
      ],
      "execution_count": null,
      "outputs": [
        {
          "output_type": "stream",
          "name": "stderr",
          "text": [
            "\u001b[32m[I 2021-09-25 04:08:13,041]\u001b[0m A new study created in memory with name: no-name-6fcd68a2-5a00-4ccf-88ae-5955c085db31\u001b[0m\n",
            "\u001b[32m[I 2021-09-25 04:08:13,050]\u001b[0m Trial 0 finished with value: 0.8435754189944135 and parameters: {'solver': 'saga', 'C': 0.1}. Best is trial 0 with value: 0.8435754189944135.\u001b[0m\n",
            "\u001b[32m[I 2021-09-25 04:08:13,062]\u001b[0m Trial 1 finished with value: 0.8435754189944135 and parameters: {'solver': 'liblinear', 'C': 0.1}. Best is trial 0 with value: 0.8435754189944135.\u001b[0m\n",
            "\u001b[32m[I 2021-09-25 04:08:13,082]\u001b[0m Trial 2 finished with value: 0.8715083798882681 and parameters: {'solver': 'sag', 'C': 100}. Best is trial 2 with value: 0.8715083798882681.\u001b[0m\n",
            "\u001b[32m[I 2021-09-25 04:08:13,091]\u001b[0m Trial 3 finished with value: 0.8435754189944135 and parameters: {'solver': 'sag', 'C': 0.01}. Best is trial 2 with value: 0.8715083798882681.\u001b[0m\n",
            "\u001b[32m[I 2021-09-25 04:08:13,108]\u001b[0m Trial 4 finished with value: 0.8715083798882681 and parameters: {'solver': 'newton-cg', 'C': 1.0}. Best is trial 2 with value: 0.8715083798882681.\u001b[0m\n",
            "\u001b[32m[I 2021-09-25 04:08:13,132]\u001b[0m Trial 5 finished with value: 0.8715083798882681 and parameters: {'solver': 'newton-cg', 'C': 100}. Best is trial 2 with value: 0.8715083798882681.\u001b[0m\n",
            "\u001b[32m[I 2021-09-25 04:08:13,139]\u001b[0m Trial 6 finished with value: 0.8715083798882681 and parameters: {'solver': 'liblinear', 'C': 1.0}. Best is trial 2 with value: 0.8715083798882681.\u001b[0m\n",
            "\u001b[32m[I 2021-09-25 04:08:13,152]\u001b[0m Trial 7 finished with value: 0.8715083798882681 and parameters: {'solver': 'lbfgs', 'C': 1.0}. Best is trial 2 with value: 0.8715083798882681.\u001b[0m\n",
            "\u001b[32m[I 2021-09-25 04:08:13,161]\u001b[0m Trial 8 finished with value: 0.8435754189944135 and parameters: {'solver': 'saga', 'C': 0.01}. Best is trial 2 with value: 0.8715083798882681.\u001b[0m\n",
            "\u001b[32m[I 2021-09-25 04:08:13,173]\u001b[0m Trial 9 finished with value: 0.8715083798882681 and parameters: {'solver': 'lbfgs', 'C': 1.0}. Best is trial 2 with value: 0.8715083798882681.\u001b[0m\n",
            "\u001b[32m[I 2021-09-25 04:08:13,192]\u001b[0m Trial 10 finished with value: 0.8715083798882681 and parameters: {'solver': 'sag', 'C': 100}. Best is trial 2 with value: 0.8715083798882681.\u001b[0m\n",
            "\u001b[32m[I 2021-09-25 04:08:13,213]\u001b[0m Trial 11 finished with value: 0.8715083798882681 and parameters: {'solver': 'newton-cg', 'C': 10}. Best is trial 2 with value: 0.8715083798882681.\u001b[0m\n",
            "\u001b[32m[I 2021-09-25 04:08:13,236]\u001b[0m Trial 12 finished with value: 0.8715083798882681 and parameters: {'solver': 'newton-cg', 'C': 100}. Best is trial 2 with value: 0.8715083798882681.\u001b[0m\n",
            "\u001b[32m[I 2021-09-25 04:08:13,254]\u001b[0m Trial 13 finished with value: 0.8715083798882681 and parameters: {'solver': 'sag', 'C': 10}. Best is trial 2 with value: 0.8715083798882681.\u001b[0m\n",
            "\u001b[32m[I 2021-09-25 04:08:13,268]\u001b[0m Trial 14 finished with value: 0.8715083798882681 and parameters: {'solver': 'sag', 'C': 1.0}. Best is trial 2 with value: 0.8715083798882681.\u001b[0m\n",
            "\u001b[32m[I 2021-09-25 04:08:13,292]\u001b[0m Trial 15 finished with value: 0.8715083798882681 and parameters: {'solver': 'newton-cg', 'C': 100}. Best is trial 2 with value: 0.8715083798882681.\u001b[0m\n",
            "\u001b[32m[I 2021-09-25 04:08:13,305]\u001b[0m Trial 16 finished with value: 0.8715083798882681 and parameters: {'solver': 'sag', 'C': 1.0}. Best is trial 2 with value: 0.8715083798882681.\u001b[0m\n",
            "\u001b[32m[I 2021-09-25 04:08:13,317]\u001b[0m Trial 17 finished with value: 0.8715083798882681 and parameters: {'solver': 'sag', 'C': 1.0}. Best is trial 2 with value: 0.8715083798882681.\u001b[0m\n",
            "\u001b[32m[I 2021-09-25 04:08:13,344]\u001b[0m Trial 18 finished with value: 0.8715083798882681 and parameters: {'solver': 'newton-cg', 'C': 100}. Best is trial 2 with value: 0.8715083798882681.\u001b[0m\n",
            "\u001b[32m[I 2021-09-25 04:08:13,358]\u001b[0m Trial 19 finished with value: 0.8715083798882681 and parameters: {'solver': 'lbfgs', 'C': 1.0}. Best is trial 2 with value: 0.8715083798882681.\u001b[0m\n",
            "\u001b[32m[I 2021-09-25 04:08:13,373]\u001b[0m Trial 20 finished with value: 0.8715083798882681 and parameters: {'solver': 'lbfgs', 'C': 1.0}. Best is trial 2 with value: 0.8715083798882681.\u001b[0m\n",
            "\u001b[32m[I 2021-09-25 04:08:13,396]\u001b[0m Trial 21 finished with value: 0.8715083798882681 and parameters: {'solver': 'sag', 'C': 100}. Best is trial 2 with value: 0.8715083798882681.\u001b[0m\n",
            "\u001b[32m[I 2021-09-25 04:08:13,416]\u001b[0m Trial 22 finished with value: 0.8715083798882681 and parameters: {'solver': 'lbfgs', 'C': 100}. Best is trial 2 with value: 0.8715083798882681.\u001b[0m\n",
            "\u001b[32m[I 2021-09-25 04:08:13,434]\u001b[0m Trial 23 finished with value: 0.8715083798882681 and parameters: {'solver': 'lbfgs', 'C': 10}. Best is trial 2 with value: 0.8715083798882681.\u001b[0m\n",
            "\u001b[32m[I 2021-09-25 04:08:13,442]\u001b[0m Trial 24 finished with value: 0.8715083798882681 and parameters: {'solver': 'liblinear', 'C': 10}. Best is trial 2 with value: 0.8715083798882681.\u001b[0m\n",
            "\u001b[32m[I 2021-09-25 04:08:13,466]\u001b[0m Trial 25 finished with value: 0.8715083798882681 and parameters: {'solver': 'saga', 'C': 100}. Best is trial 2 with value: 0.8715083798882681.\u001b[0m\n",
            "\u001b[32m[I 2021-09-25 04:08:13,480]\u001b[0m Trial 26 finished with value: 0.8715083798882681 and parameters: {'solver': 'lbfgs', 'C': 10}. Best is trial 2 with value: 0.8715083798882681.\u001b[0m\n",
            "\u001b[32m[I 2021-09-25 04:08:13,489]\u001b[0m Trial 27 finished with value: 0.8715083798882681 and parameters: {'solver': 'liblinear', 'C': 10}. Best is trial 2 with value: 0.8715083798882681.\u001b[0m\n",
            "\u001b[32m[I 2021-09-25 04:08:13,510]\u001b[0m Trial 28 finished with value: 0.8715083798882681 and parameters: {'solver': 'saga', 'C': 10}. Best is trial 2 with value: 0.8715083798882681.\u001b[0m\n",
            "\u001b[32m[I 2021-09-25 04:08:13,522]\u001b[0m Trial 29 finished with value: 0.8435754189944135 and parameters: {'solver': 'saga', 'C': 0.1}. Best is trial 2 with value: 0.8715083798882681.\u001b[0m\n",
            "\u001b[32m[I 2021-09-25 04:08:13,543]\u001b[0m Trial 30 finished with value: 0.8715083798882681 and parameters: {'solver': 'sag', 'C': 100}. Best is trial 2 with value: 0.8715083798882681.\u001b[0m\n",
            "\u001b[32m[I 2021-09-25 04:08:13,554]\u001b[0m Trial 31 finished with value: 0.8715083798882681 and parameters: {'solver': 'liblinear', 'C': 10}. Best is trial 2 with value: 0.8715083798882681.\u001b[0m\n",
            "\u001b[32m[I 2021-09-25 04:08:13,579]\u001b[0m Trial 32 finished with value: 0.8715083798882681 and parameters: {'solver': 'saga', 'C': 10}. Best is trial 2 with value: 0.8715083798882681.\u001b[0m\n",
            "\u001b[32m[I 2021-09-25 04:08:13,588]\u001b[0m Trial 33 finished with value: 0.8435754189944135 and parameters: {'solver': 'liblinear', 'C': 0.1}. Best is trial 2 with value: 0.8715083798882681.\u001b[0m\n",
            "\u001b[32m[I 2021-09-25 04:08:13,605]\u001b[0m Trial 34 finished with value: 0.8435754189944135 and parameters: {'solver': 'saga', 'C': 0.01}. Best is trial 2 with value: 0.8715083798882681.\u001b[0m\n",
            "\u001b[32m[I 2021-09-25 04:08:13,615]\u001b[0m Trial 35 finished with value: 0.8715083798882681 and parameters: {'solver': 'liblinear', 'C': 10}. Best is trial 2 with value: 0.8715083798882681.\u001b[0m\n",
            "\u001b[32m[I 2021-09-25 04:08:13,627]\u001b[0m Trial 36 finished with value: 0.8435754189944135 and parameters: {'solver': 'sag', 'C': 0.1}. Best is trial 2 with value: 0.8715083798882681.\u001b[0m\n",
            "\u001b[32m[I 2021-09-25 04:08:13,651]\u001b[0m Trial 37 finished with value: 0.8715083798882681 and parameters: {'solver': 'newton-cg', 'C': 10}. Best is trial 2 with value: 0.8715083798882681.\u001b[0m\n",
            "\u001b[32m[I 2021-09-25 04:08:13,665]\u001b[0m Trial 38 finished with value: 0.8715083798882681 and parameters: {'solver': 'liblinear', 'C': 10}. Best is trial 2 with value: 0.8715083798882681.\u001b[0m\n",
            "\u001b[32m[I 2021-09-25 04:08:13,680]\u001b[0m Trial 39 finished with value: 0.8715083798882681 and parameters: {'solver': 'lbfgs', 'C': 1.0}. Best is trial 2 with value: 0.8715083798882681.\u001b[0m\n",
            "\u001b[32m[I 2021-09-25 04:08:13,696]\u001b[0m Trial 40 finished with value: 0.8715083798882681 and parameters: {'solver': 'lbfgs', 'C': 1.0}. Best is trial 2 with value: 0.8715083798882681.\u001b[0m\n",
            "\u001b[32m[I 2021-09-25 04:08:13,714]\u001b[0m Trial 41 finished with value: 0.8715083798882681 and parameters: {'solver': 'lbfgs', 'C': 100}. Best is trial 2 with value: 0.8715083798882681.\u001b[0m\n",
            "\u001b[32m[I 2021-09-25 04:08:13,726]\u001b[0m Trial 42 finished with value: 0.8435754189944135 and parameters: {'solver': 'lbfgs', 'C': 0.01}. Best is trial 2 with value: 0.8715083798882681.\u001b[0m\n",
            "\u001b[32m[I 2021-09-25 04:08:13,747]\u001b[0m Trial 43 finished with value: 0.8715083798882681 and parameters: {'solver': 'sag', 'C': 10}. Best is trial 2 with value: 0.8715083798882681.\u001b[0m\n",
            "\u001b[32m[I 2021-09-25 04:08:13,771]\u001b[0m Trial 44 finished with value: 0.8715083798882681 and parameters: {'solver': 'saga', 'C': 100}. Best is trial 2 with value: 0.8715083798882681.\u001b[0m\n",
            "\u001b[32m[I 2021-09-25 04:08:13,786]\u001b[0m Trial 45 finished with value: 0.8715083798882681 and parameters: {'solver': 'lbfgs', 'C': 10}. Best is trial 2 with value: 0.8715083798882681.\u001b[0m\n",
            "\u001b[32m[I 2021-09-25 04:08:13,808]\u001b[0m Trial 46 finished with value: 0.8715083798882681 and parameters: {'solver': 'saga', 'C': 100}. Best is trial 2 with value: 0.8715083798882681.\u001b[0m\n",
            "\u001b[32m[I 2021-09-25 04:08:13,821]\u001b[0m Trial 47 finished with value: 0.8715083798882681 and parameters: {'solver': 'lbfgs', 'C': 10}. Best is trial 2 with value: 0.8715083798882681.\u001b[0m\n",
            "\u001b[32m[I 2021-09-25 04:08:13,845]\u001b[0m Trial 48 finished with value: 0.8715083798882681 and parameters: {'solver': 'saga', 'C': 10}. Best is trial 2 with value: 0.8715083798882681.\u001b[0m\n",
            "\u001b[32m[I 2021-09-25 04:08:13,855]\u001b[0m Trial 49 finished with value: 0.8715083798882681 and parameters: {'solver': 'liblinear', 'C': 10}. Best is trial 2 with value: 0.8715083798882681.\u001b[0m\n"
          ]
        }
      ]
    },
    {
      "cell_type": "code",
      "metadata": {
        "colab": {
          "base_uri": "https://localhost:8080/"
        },
        "id": "9RRtdowEZPmd",
        "outputId": "219d15d6-3501-442e-fcd3-721eb1257bd5"
      },
      "source": [
        "print('Number of finished trials:', len(study.trials))\n",
        "print('Best trial:', study.best_trial.params)"
      ],
      "execution_count": null,
      "outputs": [
        {
          "output_type": "stream",
          "name": "stdout",
          "text": [
            "Number of finished trials: 50\n",
            "Best trial: {'solver': 'sag', 'C': 100}\n"
          ]
        }
      ]
    },
    {
      "cell_type": "markdown",
      "metadata": {
        "id": "Mx_bwRR6wtwH"
      },
      "source": [
        "#Cross validation"
      ]
    },
    {
      "cell_type": "code",
      "metadata": {
        "id": "ufkFUvf5ZqOV"
      },
      "source": [
        "def cross_val(X, y, model, params, folds=5):\n",
        "\n",
        "    score = []\n",
        "    skf = StratifiedKFold(n_splits=folds, shuffle=True, random_state=21)\n",
        "\n",
        "    for fold, (train_idx, test_idx) in enumerate(skf.split(X, y)):\n",
        "        print(f\"Fold: {fold}\")\n",
        "        x_train, y_train = X.iloc[train_idx], y.iloc[train_idx]\n",
        "        x_test, y_test = X.iloc[test_idx], y.iloc[test_idx]\n",
        " \n",
        "        alg = model(**params)\n",
        "        alg.fit(x_train, y_train)\n",
        " \n",
        "        pred = alg.predict(x_test)\n",
        "        loss = accuracy_score(y_test, pred)\n",
        "        score.append(loss)\n",
        "\n",
        "        print(f\" accuracy_score: {loss}\")\n",
        "        print(\"-\"*50)\n",
        "     \n",
        "    print(\"mean:\",np.array(score).mean())\n",
        "\n",
        "    return alg"
      ],
      "execution_count": null,
      "outputs": []
    },
    {
      "cell_type": "code",
      "metadata": {
        "colab": {
          "base_uri": "https://localhost:8080/"
        },
        "id": "EU0Ay7D5aXfh",
        "outputId": "3f08808f-6ef3-4bdb-86ff-804cc871f96d"
      },
      "source": [
        "x_train_3.shape, x_val_3.shape"
      ],
      "execution_count": null,
      "outputs": [
        {
          "output_type": "execute_result",
          "data": {
            "text/plain": [
              "((712, 11), (179, 11))"
            ]
          },
          "metadata": {},
          "execution_count": 69
        }
      ]
    },
    {
      "cell_type": "code",
      "metadata": {
        "id": "m7giBqXBaeDq"
      },
      "source": [
        "#buat target Dan feature baru\n",
        "X_new = pd.DataFrame(np.concatenate([x_train_3,x_val_3]))\n",
        "Y_new = pd.concat([y_train, y_val])"
      ],
      "execution_count": null,
      "outputs": []
    },
    {
      "cell_type": "code",
      "metadata": {
        "colab": {
          "base_uri": "https://localhost:8080/"
        },
        "id": "A6KcmLNmcD-r",
        "outputId": "9fcc7e4e-1d73-4cfc-d0d4-992f40582e0e"
      },
      "source": [
        "#pilih param terbaik\n",
        "lr_params = study.best_trial.params\n",
        "lr_params"
      ],
      "execution_count": null,
      "outputs": [
        {
          "output_type": "execute_result",
          "data": {
            "text/plain": [
              "{'C': 100, 'solver': 'sag'}"
            ]
          },
          "metadata": {},
          "execution_count": 71
        }
      ]
    },
    {
      "cell_type": "code",
      "metadata": {
        "colab": {
          "base_uri": "https://localhost:8080/"
        },
        "id": "9LOL-OcOb4DK",
        "outputId": "320b3041-896a-427b-8429-4d6a5252017c"
      },
      "source": [
        "score = cross_val(X_new,Y_new,LogisticRegression, lr_params)"
      ],
      "execution_count": null,
      "outputs": [
        {
          "output_type": "stream",
          "name": "stdout",
          "text": [
            "Fold: 0\n",
            " accuracy_score: 0.7932960893854749\n",
            "--------------------------------------------------\n",
            "Fold: 1\n",
            " accuracy_score: 0.848314606741573\n",
            "--------------------------------------------------\n",
            "Fold: 2\n",
            " accuracy_score: 0.8314606741573034\n",
            "--------------------------------------------------\n",
            "Fold: 3\n",
            " accuracy_score: 0.7752808988764045\n",
            "--------------------------------------------------\n",
            "Fold: 4\n",
            " accuracy_score: 0.7696629213483146\n",
            "--------------------------------------------------\n",
            "mean: 0.8036030381018142\n"
          ]
        }
      ]
    },
    {
      "cell_type": "code",
      "metadata": {
        "id": "LH_SG--qc5Th"
      },
      "source": [
        "#x_val_3 karena saya pilih logisticregression \n",
        "y_true = score.predict(x_val_3)"
      ],
      "execution_count": null,
      "outputs": []
    },
    {
      "cell_type": "code",
      "metadata": {
        "colab": {
          "base_uri": "https://localhost:8080/"
        },
        "id": "_hgDP_vYdFSt",
        "outputId": "99fdc332-e7de-49f4-d6a1-654dd7b172ca"
      },
      "source": [
        "accuracy_score(y_val,y_true)"
      ],
      "execution_count": null,
      "outputs": [
        {
          "output_type": "execute_result",
          "data": {
            "text/plain": [
              "0.8491620111731844"
            ]
          },
          "metadata": {},
          "execution_count": 79
        }
      ]
    },
    {
      "cell_type": "code",
      "metadata": {
        "colab": {
          "base_uri": "https://localhost:8080/",
          "height": 188
        },
        "id": "bcZXrOnsKU-e",
        "outputId": "bffbc713-4a70-42d6-eaef-b16637fcdb9c"
      },
      "source": [
        "classification_report(y_val, y_true)"
      ],
      "execution_count": null,
      "outputs": [
        {
          "output_type": "execute_result",
          "data": {
            "application/vnd.google.colaboratory.intrinsic+json": {
              "type": "string"
            },
            "text/plain": [
              "'              precision    recall  f1-score   support\\n\\n           0       0.83      0.96      0.89       112\\n           1       0.90      0.67      0.77        67\\n\\n    accuracy                           0.85       179\\n   macro avg       0.86      0.81      0.83       179\\nweighted avg       0.86      0.85      0.84       179\\n'"
            ]
          },
          "metadata": {},
          "execution_count": 82
        }
      ]
    },
    {
      "cell_type": "code",
      "metadata": {
        "colab": {
          "base_uri": "https://localhost:8080/",
          "height": 238
        },
        "id": "6XuuUtWGKhWM",
        "outputId": "2a08cf36-315b-425f-f489-564686c8afe4"
      },
      "source": [
        "plot_roc_curve(score, x_val_3, y_val)"
      ],
      "execution_count": null,
      "outputs": [
        {
          "output_type": "execute_result",
          "data": {
            "text/plain": [
              "<sklearn.metrics._plot.roc_curve.RocCurveDisplay at 0x7f5626a27550>"
            ]
          },
          "metadata": {},
          "execution_count": 85
        },
        {
          "output_type": "display_data",
          "data": {
            "image/png": "[encoded data removed]",
            "text/plain": [
              "<Figure size 432x288 with 1 Axes>"
            ]
          },
          "metadata": {
            "needs_background": "light"
          }
        }
      ]
    },
    {
      "cell_type": "code",
      "metadata": {
        "colab": {
          "base_uri": "https://localhost:8080/",
          "height": 333
        },
        "id": "Atoawa6nK8ov",
        "outputId": "35e13050-9aa0-4f27-99b0-f3841199800e"
      },
      "source": [
        "cf = confusion_matrix(y_val, y_true)\n",
        "\n",
        "plt.figure(figsize=(10,10)) \n",
        "sns.heatmap(cf, annot=True,cmap=\"coolwarm\")"
      ],
      "execution_count": null,
      "outputs": [
        {
          "output_type": "execute_result",
          "data": {
            "text/plain": [
              "<matplotlib.axes._subplots.AxesSubplot at 0x7f56269b18d0>"
            ]
          },
          "metadata": {},
          "execution_count": 88
        },
        {
          "output_type": "display_data",
          "data": {
            "image/png": "[encoded data removed]",
            "text/plain": [
              "<Figure size 720x720 with 2 Axes>"
            ]
          },
          "metadata": {
            "needs_background": "light"
          }
        }
      ]
    },
    {
      "cell_type": "markdown",
      "metadata": {
        "id": "_cJXOsb3zZc8"
      },
      "source": [
        "#predict for unseen data"
      ]
    },
    {
      "cell_type": "code",
      "metadata": {
        "id": "-BX8CuABdiL2"
      },
      "source": [
        "tester = tester[col]\n",
        "tester = tester.join(pd.get_dummies(tester[cater]))"
      ],
      "execution_count": null,
      "outputs": []
    },
    {
      "cell_type": "code",
      "metadata": {
        "id": "yZDx5K5IeNtM"
      },
      "source": [
        "tester.drop([\"Sex\", \"title_name\", \"cut_fare\"], axis=1, inplace=True)"
      ],
      "execution_count": null,
      "outputs": []
    },
    {
      "cell_type": "code",
      "metadata": {
        "id": "-fk69yhuecue"
      },
      "source": [
        "tester = sc.transform(tester)"
      ],
      "execution_count": null,
      "outputs": []
    },
    {
      "cell_type": "code",
      "metadata": {
        "id": "-BMZUGc6efYq"
      },
      "source": [
        "preds = score.predict(tester)"
      ],
      "execution_count": null,
      "outputs": []
    },
    {
      "cell_type": "code",
      "metadata": {
        "id": "FNtIFOHCjYyZ",
        "colab": {
          "base_uri": "https://localhost:8080/"
        },
        "outputId": "85e7b648-d60c-41ef-b634-35562dbf2bb4"
      },
      "source": [
        "print(f\"accuracy: {accuracy_score(sub.iloc[:,-1],preds)}\")"
      ],
      "execution_count": null,
      "outputs": [
        {
          "output_type": "stream",
          "name": "stdout",
          "text": [
            "accuracy: 0.9473684210526315\n"
          ]
        }
      ]
    },
    {
      "cell_type": "markdown",
      "metadata": {
        "id": "PsSB-yGQNVL0"
      },
      "source": [
        "#final submission"
      ]
    },
    {
      "cell_type": "code",
      "metadata": {
        "id": "ncZiQ_-sfnlv"
      },
      "source": [
        "sub[\"Survived\"] = preds"
      ],
      "execution_count": null,
      "outputs": []
    },
    {
      "cell_type": "code",
      "metadata": {
        "colab": {
          "base_uri": "https://localhost:8080/",
          "height": 419
        },
        "id": "6m7YJ2OWfvM_",
        "outputId": "9a6189e0-db2b-465e-c4b2-ddb1898549fe"
      },
      "source": [
        "sub"
      ],
      "execution_count": null,
      "outputs": [
        {
          "output_type": "execute_result",
          "data": {
            "text/html": [
              "<div>\n",
              "<style scoped>\n",
              "    .dataframe tbody tr th:only-of-type {\n",
              "        vertical-align: middle;\n",
              "    }\n",
              "\n",
              "    .dataframe tbody tr th {\n",
              "        vertical-align: top;\n",
              "    }\n",
              "\n",
              "    .dataframe thead th {\n",
              "        text-align: right;\n",
              "    }\n",
              "</style>\n",
              "<table border=\"1\" class=\"dataframe\">\n",
              "  <thead>\n",
              "    <tr style=\"text-align: right;\">\n",
              "      <th></th>\n",
              "      <th>PassengerId</th>\n",
              "      <th>Survived</th>\n",
              "    </tr>\n",
              "  </thead>\n",
              "  <tbody>\n",
              "    <tr>\n",
              "      <th>0</th>\n",
              "      <td>892</td>\n",
              "      <td>0</td>\n",
              "    </tr>\n",
              "    <tr>\n",
              "      <th>1</th>\n",
              "      <td>893</td>\n",
              "      <td>1</td>\n",
              "    </tr>\n",
              "    <tr>\n",
              "      <th>2</th>\n",
              "      <td>894</td>\n",
              "      <td>0</td>\n",
              "    </tr>\n",
              "    <tr>\n",
              "      <th>3</th>\n",
              "      <td>895</td>\n",
              "      <td>0</td>\n",
              "    </tr>\n",
              "    <tr>\n",
              "      <th>4</th>\n",
              "      <td>896</td>\n",
              "      <td>1</td>\n",
              "    </tr>\n",
              "    <tr>\n",
              "      <th>...</th>\n",
              "      <td>...</td>\n",
              "      <td>...</td>\n",
              "    </tr>\n",
              "    <tr>\n",
              "      <th>413</th>\n",
              "      <td>1305</td>\n",
              "      <td>0</td>\n",
              "    </tr>\n",
              "    <tr>\n",
              "      <th>414</th>\n",
              "      <td>1306</td>\n",
              "      <td>1</td>\n",
              "    </tr>\n",
              "    <tr>\n",
              "      <th>415</th>\n",
              "      <td>1307</td>\n",
              "      <td>0</td>\n",
              "    </tr>\n",
              "    <tr>\n",
              "      <th>416</th>\n",
              "      <td>1308</td>\n",
              "      <td>0</td>\n",
              "    </tr>\n",
              "    <tr>\n",
              "      <th>417</th>\n",
              "      <td>1309</td>\n",
              "      <td>0</td>\n",
              "    </tr>\n",
              "  </tbody>\n",
              "</table>\n",
              "<p>418 rows × 2 columns</p>\n",
              "</div>"
            ],
            "text/plain": [
              "     PassengerId  Survived\n",
              "0            892         0\n",
              "1            893         1\n",
              "2            894         0\n",
              "3            895         0\n",
              "4            896         1\n",
              "..           ...       ...\n",
              "413         1305         0\n",
              "414         1306         1\n",
              "415         1307         0\n",
              "416         1308         0\n",
              "417         1309         0\n",
              "\n",
              "[418 rows x 2 columns]"
            ]
          },
          "metadata": {},
          "execution_count": 103
        }
      ]
    },
    {
      "cell_type": "code",
      "metadata": {
        "id": "7a2R-w_PfxB9"
      },
      "source": [
        "sub.to_csv(\"my_subs.csv\", index=False)"
      ],
      "execution_count": null,
      "outputs": []
    }
  ]
}